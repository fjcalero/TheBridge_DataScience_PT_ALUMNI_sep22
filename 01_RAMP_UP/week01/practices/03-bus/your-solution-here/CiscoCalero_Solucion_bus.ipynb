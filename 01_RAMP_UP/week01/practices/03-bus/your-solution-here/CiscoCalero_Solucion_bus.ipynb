{
 "cells": [
  {
   "cell_type": "markdown",
   "metadata": {},
   "source": [
    "# Bus\n",
    "\n",
    "Este bus tiene un sistema de control de subida y bajada de pasajeros para monitorizar el número de ocupantes que lleva y así detectar cuando hay un aforo demasiado alto. \n",
    "\n",
    "En cada parada la subida y bajada de pasajeros se representa por una tupla compuesta por dos números enteros. \n",
    "```\n",
    "bus_stop = (in, out)\n",
    "```\n",
    "La sucesión de paradas se representa con una lista estas tuplas.\n",
    "```\n",
    "stops = [(in1, out1), (in2, out2), (in3, out3), (in4, out4)]\n",
    "```\n",
    "\n",
    "## Objetivos: \n",
    "* listas, tuplas\n",
    "* bucles while/for\n",
    "* mínimo, máximo, longitud\n",
    "* media, desviación estandard\n",
    "\n",
    "## Tareas\n",
    "1. Calcula el número de paradas. \n",
    "2. Asigna a una variable una lista cuyos elementos sean el número de pasajeros en cada parada (in-out), \n",
    "3. Halla el máximo de ocupación del autobús. \n",
    "4. Calcula la media de la ocupación. Y la desviación estandard. \n"
   ]
  },
  {
   "cell_type": "code",
   "execution_count": 1,
   "metadata": {},
   "outputs": [
    {
     "name": "stdout",
     "output_type": "stream",
     "text": [
      "El número total de paradas es de: 9\n",
      "En la parada 1 hay 10 pasajeros\n",
      "En la parada 2 hay 13 pasajeros\n",
      "En la parada 3 hay 11 pasajeros\n",
      "En la parada 4 hay 10 pasajeros\n",
      "En la parada 5 hay 14 pasajeros\n",
      "En la parada 6 hay 10 pasajeros\n",
      "En la parada 7 hay 7 pasajeros\n",
      "En la parada 8 hay 5 pasajeros\n",
      "En la parada 9 hay 4 pasajeros\n",
      "El número máximo de pasajeros ha sido de: 14\n",
      "El número medio de pasajeros ha sido de: 9\n",
      "La desviación estándar de pasajeros ha sido de: 3.197221015541813\n"
     ]
    }
   ],
   "source": [
    "stops = [(10, 0), (4, 1), (3, 5), (3, 4), (5, 1), (1, 5), (5, 8), (4, 6), (2, 3)]\n",
    "\n",
    "import numpy as np # Importamos la libreria para poder hacer el cáluco de la media y la desviación\n",
    "# 1. Calcula el número de paradas. \n",
    "paradas = len(stops)\n",
    "print(f\"El número total de paradas es de: {paradas}\")\n",
    "\n",
    "# 2. Asigna a una variable una lista cuyos elementos sean el número de pasajeros en \n",
    "# cada parada: Cada elemento depende del elemento previo en la lista + in - out.  \n",
    "pasajerosParada = [] #inicializamos el array que mostrará el número de pasajeros por parada\n",
    "pasajerosParada.append (stops [0][0] - stops [0][1]) #incluimos el primer valor al ser la primara parada\n",
    "contadorParadas = 1 # iniciañizamos en valor 1 puesto que ya no vamos a necesita el index 0\n",
    "\n",
    "while contadorParadas < len(stops):\n",
    "    pasajerosParada.append ((pasajerosParada[contadorParadas-1]) + (stops [contadorParadas][0] - stops [contadorParadas][1]))\n",
    "    contadorParadas += 1\n",
    "\n",
    "contadorParadas = 0 #reiniciamos el contador de paradas\n",
    "for pasajeros in pasajerosParada: # mostramos el número de pasajeros por cada parada\n",
    "    contadorParadas += 1\n",
    "    print (f\"En la parada {contadorParadas} hay {pasajeros} pasajeros\")\n",
    "    \n",
    "# 3. Halla el máximo de ocupación del autobús. \n",
    "maximoPasajeros = max(pasajerosParada)\n",
    "print(f\"El número máximo de pasajeros ha sido de: {maximoPasajeros}\")\n",
    "\n",
    "# 4. Calcula la media de la ocupación. Y la desviación estandard. \n",
    "mediaPasajeros = round (np.mean(pasajerosParada)) # lo redondeamos porque no tiene sentido que existan decimales\n",
    "print(f\"El número medio de pasajeros ha sido de: {mediaPasajeros}\")\n",
    "\n",
    "desviacionPasajeros = np.std(pasajerosParada)\n",
    "print(f\"La desviación estándar de pasajeros ha sido de: {desviacionPasajeros}\")"
   ]
  }
 ],
 "metadata": {
  "kernelspec": {
   "display_name": "Python 3.9.13 ('rampup_py39')",
   "language": "python",
   "name": "python3"
  },
  "language_info": {
   "codemirror_mode": {
    "name": "ipython",
    "version": 3
   },
   "file_extension": ".py",
   "mimetype": "text/x-python",
   "name": "python",
   "nbconvert_exporter": "python",
   "pygments_lexer": "ipython3",
   "version": "3.9.13"
  },
  "vscode": {
   "interpreter": {
    "hash": "213fdc0333ab73640da932b83f3310958a4f4fed211f03cb6b99353b64ec3f6d"
   }
  }
 },
 "nbformat": 4,
 "nbformat_minor": 2
}
