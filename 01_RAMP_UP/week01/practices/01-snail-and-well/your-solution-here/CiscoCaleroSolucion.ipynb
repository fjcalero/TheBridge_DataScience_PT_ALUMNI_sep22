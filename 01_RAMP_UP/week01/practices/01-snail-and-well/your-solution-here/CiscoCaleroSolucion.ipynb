{
 "cells": [
  {
   "cell_type": "markdown",
   "metadata": {},
   "source": [
    "# 01 - Caracol y el pozo\n",
    "\n",
    "Un caracol cae en el fondo de un pozo de 125 cm. Cada día el caracol sube 30 cm. pero por la noche, mientras duerme, resbala 20 cm debido a que las paredes son húmedas. ¿Cuantos días tarda en escapar del pozo?\n",
    "\n",
    "TIP: https://www.vix.com/es/btg/curiosidades/59215/acertijos-matematicos-el-caracol-en-el-pozo-facil\n",
    "\n",
    "TIP: http://puzzles.nigelcoldwell.co.uk/sixtytwo.htm"
   ]
  },
  {
   "cell_type": "markdown",
   "metadata": {},
   "source": [
    "## Solución"
   ]
  },
  {
   "cell_type": "code",
   "execution_count": 6,
   "metadata": {},
   "outputs": [
    {
     "name": "stdout",
     "output_type": "stream",
     "text": [
      "Días = 13\n"
     ]
    }
   ],
   "source": [
    "# Asigna los datos del problema a variables con nombres representativos\n",
    "# altura del pozo, avance diario, retroceso nocturno, distancia acumulada\n",
    "alturaPozo = 125\n",
    "avanceDiario = 30\n",
    "retrocesoNocturno = 20\n",
    "distanciaAcumulada = 0\n",
    "\n",
    "# Asigna 0 a la variable que representa la solución\n",
    "dias = 0\n",
    "\n",
    "# Escribe el código que soluciona el problema\n",
    "while True:\n",
    "    if distanciaAcumulada < 125:\n",
    "        distanciaAcumulada = avanceDiario - retrocesoNocturno\n",
    "        avanceDiario += 30\n",
    "        retrocesoNocturno += 20\n",
    "        dias += 1\n",
    "    else:\n",
    "        break\n",
    "    \n",
    "# Imprime el resultado con print('Dias =', dias)\n",
    "print(f\"Días = {dias}\")\n"
   ]
  },
  {
   "cell_type": "markdown",
   "metadata": {},
   "source": [
    "## Objetivos\n",
    "\n",
    "1. Tratamiento de variables\n",
    "2. Uso de bucle **while**\n",
    "3. Uso de condicionales **if-else**\n",
    "4. Imprimir por consola"
   ]
  },
  {
   "cell_type": "markdown",
   "metadata": {},
   "source": [
    "## Bonus\n",
    "La distancia recorrida por el caracol viene ahora definida por una lista. \n",
    "```\n",
    "avance_cm = [30, 21, 33, 77, 44, 45, 23, 45, 12, 34, 55]\n",
    "```\n",
    "¿Cuánto tarda en subir el pozo?\n",
    "¿Cuál es su máximo de desplazamiento en un día? ¿Y su mínimo?\n",
    "¿Cuál es su media de velocidad durante el día?\n",
    "¿Cuál es la desviación típica de su desplazamiento durante el día?"
   ]
  },
  {
   "cell_type": "code",
   "execution_count": 22,
   "metadata": {},
   "outputs": [
    {
     "name": "stdout",
     "output_type": "stream",
     "text": [
      "Días = 6\n",
      "Máximo de desplazamiento en un día = 77\n",
      "Mínimo de desplazamiento en un día = 12\n",
      "Media de avance = 38.09090909090909\n"
     ]
    }
   ],
   "source": [
    "# Asigna los datos del problema a variables con nombres representativos\n",
    "# altura del pozo, avance diario, retroceso nocturno, distancia acumulada\n",
    "alturaPozo = 125\n",
    "avanceDiario = [30, 21, 33, 77, 44, 45, 23, 45, 12, 34, 55]\n",
    "retrocesoNocturno = 20\n",
    "distanciaAcumulada = 0\n",
    "\n",
    "\n",
    "# Asigna 0 a la variable que representa la solución\n",
    "dias = 0\n",
    "\n",
    "# Escribe el código que soluciona el problema\n",
    "for avance in avanceDiario:\n",
    "    distanciaAcumulada += avance - retrocesoNocturno\n",
    "    dias += 1\n",
    "    if distanciaAcumulada > 125:\n",
    "        break;\n",
    "\n",
    "# Imprime el resultado con print('Dias =', dias)\n",
    "print(f\"Días = {dias}\")\n",
    "\n",
    "# ¿Cuál es su máximo de desplazamiento en un día? ¿Y su mínimo?\n",
    "maximoDesplazamiento = max(avanceDiario)\n",
    "minimoDesplazamiento = min(avanceDiario)\n",
    "print(f\"Máximo de desplazamiento en un día = {maximoDesplazamiento}\")\n",
    "print(f\"Mínimo de desplazamiento en un día = {minimoDesplazamiento}\")\n",
    "\n",
    "# ¿Cuál es su media de avance?\n",
    "cmTotales = 0\n",
    "mediaDesplazamiento = 0\n",
    "for cm in avanceDiario:\n",
    "    cmTotales += cm\n",
    "mediaDesplazamiento = cmTotales / len(avanceDiario)\n",
    "print(f\"Media de avance = {mediaDesplazamiento}\")\n",
    "\n",
    "# ¿Cuál es la desviación típica de su desplazamiento durante el día?\n",
    "# ============ No se cómo calcular la desviación típica ============="
   ]
  },
  {
   "cell_type": "code",
   "execution_count": null,
   "metadata": {},
   "outputs": [],
   "source": []
  }
 ],
 "metadata": {
  "kernelspec": {
   "display_name": "Python 3.9.12 ('base')",
   "language": "python",
   "name": "python3"
  },
  "language_info": {
   "codemirror_mode": {
    "name": "ipython",
    "version": 3
   },
   "file_extension": ".py",
   "mimetype": "text/x-python",
   "name": "python",
   "nbconvert_exporter": "python",
   "pygments_lexer": "ipython3",
   "version": "3.9.12"
  },
  "vscode": {
   "interpreter": {
    "hash": "787aa1ca02aa5dc4a1832ef8640e6114e3012ba3e297551b68ee2e33e1a4020c"
   }
  }
 },
 "nbformat": 4,
 "nbformat_minor": 4
}
