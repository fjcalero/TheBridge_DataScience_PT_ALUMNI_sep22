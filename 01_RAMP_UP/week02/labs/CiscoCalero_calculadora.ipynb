{
 "cells": [
  {
   "cell_type": "code",
   "execution_count": null,
   "metadata": {},
   "outputs": [],
   "source": []
  },
  {
   "cell_type": "markdown",
   "metadata": {},
   "source": [
    "a = input()"
   ]
  },
  {
   "cell_type": "code",
   "execution_count": 5,
   "metadata": {},
   "outputs": [
    {
     "name": "stdout",
     "output_type": "stream",
     "text": [
      "Simple calculator!\n",
      "El resultado de 3.0 menos 3.0 es: 0.0\n"
     ]
    }
   ],
   "source": [
    "# Importamos el módulo con los métodos para los input del usuario\n",
    "import utils\n",
    "\n",
    "print(\"Simple calculator!\")\n",
    "# Creamos la variable con las opciones posibles de cálculo\n",
    "operadores = [\"+\", \"-\", \"*\", \"/\"]\n",
    "\n",
    "# Solicitamos al usuario que introduzca el prime3r número, el operador y el segundo número\n",
    "a = utils.inputNumero (\"Introduce el primer número: \")\n",
    "o = utils.seleccionaOperador (operadores)\n",
    "b = utils.inputNumero (\"Introduce el segundo número: \")\n",
    "\n",
    "# Inicializamos la variable que almacenará el resultado de la operación\n",
    "resultado = 0\n",
    "\n",
    "# Realiza el cálculo e imprime por pantalla el resultado\n",
    "if o == \"+\":\n",
    "    resultado = a+b\n",
    "    print(f\"El resultado de {a} mas {b} es: {resultado}\")\n",
    "elif o == \"-\":\n",
    "    resultado = a-b\n",
    "    print(f\"El resultado de {a} menos {b} es: {resultado}\")\n",
    "elif o == \"*\":\n",
    "    resultado = a*b\n",
    "    print(f\"El resultado de {a} por {b} es: {resultado}\")\n",
    "else:\n",
    "    resultado = a/b\n",
    "    print(f\"El resultado de {a} dividido entre {b} es: {resultado}\")\n",
    "\n"
   ]
  }
 ],
 "metadata": {
  "kernelspec": {
   "display_name": "Python 3.9.13 ('rampup_py39')",
   "language": "python",
   "name": "python3"
  },
  "language_info": {
   "codemirror_mode": {
    "name": "ipython",
    "version": 3
   },
   "file_extension": ".py",
   "mimetype": "text/x-python",
   "name": "python",
   "nbconvert_exporter": "python",
   "pygments_lexer": "ipython3",
   "version": "3.9.13"
  },
  "orig_nbformat": 4,
  "vscode": {
   "interpreter": {
    "hash": "213fdc0333ab73640da932b83f3310958a4f4fed211f03cb6b99353b64ec3f6d"
   }
  }
 },
 "nbformat": 4,
 "nbformat_minor": 2
}
