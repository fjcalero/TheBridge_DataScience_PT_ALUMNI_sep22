{
 "cells": [
  {
   "cell_type": "markdown",
   "metadata": {},
   "source": [
    "### Pregunta 1\n",
    "\n",
    "¿Cuál es el valor final de a, b y c? (atención a los tipos de número decimal y entero)\n",
    "\n",
    "a = 5 * 11\n",
    "\n",
    "b = a / 2.\n",
    "\n",
    "c, a = b * 2, b + 1"
   ]
  },
  {
   "cell_type": "code",
   "execution_count": 18,
   "metadata": {},
   "outputs": [
    {
     "name": "stdout",
     "output_type": "stream",
     "text": [
      "Inicial a: 55\n",
      "Inicial b: 27.5\n",
      "a: 28.5\n",
      "b: 27.5\n",
      "c: 55.0\n"
     ]
    }
   ],
   "source": [
    "a = 5 * 11\n",
    "print(\"Inicial a:\", a)\n",
    "\n",
    "b = a / 2.\n",
    "print(\"Inicial b:\", b)\n",
    "\n",
    "c, a = b * 2, b + 1\n",
    "\n",
    "print(\"a:\", a)\n",
    "print(\"b:\", b)\n",
    "print(\"c:\", c)"
   ]
  },
  {
   "cell_type": "markdown",
   "metadata": {},
   "source": [
    "### Pregunta 2\n",
    "\n",
    "Identifica tres tipos de datos de Python y explica brevemente en qué se diferencian. Explica la diferencia entre el tipo lista y el tipo tupla."
   ]
  },
  {
   "cell_type": "markdown",
   "metadata": {},
   "source": [
    "### string\n",
    "Son datos de texto y puede contener tanto letras como números y caracteres especiales. Estos datos deben ir entre comilla simples o dobles\n",
    "### float\n",
    "Datos de tipo numérico que, a diferencia de los de tipo *integer* tienen decimales. En su definición o asignación a variable, no deben entrecomillarse.\n",
    "### boolean\n",
    "Este tipo tan solo puede tomar dos datos: ***True*** (Verdadero) y ***False*** (Falso) aunque en ocasiones estos valores pueden tomar el 0 y 1 respectivamente.\n",
    "Evaluan si una expresión, condición o comparación es verdadera o falsa.\n",
    "\n",
    "### Diferencia entre lista y tupla\n",
    "Las listas son una enumeración de datos ordenada que pueden adquirir cualquier tipo de tipo de dato: string, float, integer, nulo, booleano; o incluso otras listas, tuplas, sets o diccionarios.\n",
    "\n",
    "Decimos que son ordenados puesto que a cada elemento de la lista le corresponde un índice desde 0 a el tamaño de la lista -1\n",
    "\n",
    "Podríamos decir que las tuplas son un tipo especial de listas que son inmutables, es decir, no se puede modificar o eliminar ninguno de sus elementos."
   ]
  },
  {
   "cell_type": "code",
   "execution_count": null,
   "metadata": {},
   "outputs": [],
   "source": [
    "# Respuesta"
   ]
  },
  {
   "cell_type": "markdown",
   "metadata": {},
   "source": [
    "### Pregunta 3\n",
    "\n",
    "¿Cuál es el resultado de la operación lógica ` 'manzana'> 'casa'`? Explica por qué. \n",
    "\n",
    "**Nota**: Consultad en estándar [Unicode](https://es.wikipedia.org/wiki/Unicode) para la codificación de caracteres."
   ]
  },
  {
   "cell_type": "markdown",
   "metadata": {},
   "source": [
    "La comparación entre cadenas de caracteres se realiza valorando la posición de cada carácter (empezando por el primero) en el listado unicode.\n",
    "\n",
    "De esta forma, el caracter \"a\" estaría en una posición inferior a \"b\". En nuestro ejemplo, el primer caracter de \"manzana\", la \"m\" es superior a la \"c\" de casa.\n",
    "\n",
    "Así, el resultado es True.\n",
    "\n",
    "Si hacemos la prueba de cambiar el primer caracter de manazana por una a (\"canzana\"), la comparación pasaría al siguiente y así sucesivamente. El resultado sería False, puesto que \"s\" es superior a \"n\"\n",
    "\n",
    "Podemos decir, además, que no se tiene en cuenta el número de carateres."
   ]
  },
  {
   "cell_type": "code",
   "execution_count": 13,
   "metadata": {},
   "outputs": [
    {
     "name": "stdout",
     "output_type": "stream",
     "text": [
      "True\n",
      "False\n"
     ]
    }
   ],
   "source": [
    "print ('manzana'> 'casa')\n",
    "print ('canzana'> 'casa')"
   ]
  },
  {
   "cell_type": "markdown",
   "metadata": {},
   "source": [
    "### Ejercicio 1\n",
    "\n",
    "Escribir un programa que seleccione la cadena \"analista\" a partir de la cadena: \"Ana es buena analista de datos.\". Mostrar el resultado por pantalla."
   ]
  },
  {
   "cell_type": "code",
   "execution_count": 23,
   "metadata": {},
   "outputs": [
    {
     "name": "stdout",
     "output_type": "stream",
     "text": [
      "analista\n",
      "analista\n"
     ]
    }
   ],
   "source": [
    "# Opción 1\n",
    "# Creamos una subcadena a partir de los índices de inicio y fin de la palabra \"analista\"\n",
    "cadena = \"Ana es buena analista de datos.\"\n",
    "print (cadena[13:21])\n",
    "\n",
    "# Opción 2\n",
    "# Convertimos la cadena en lista y, por comparación, imprimimos por pantalla la coincidencia\n",
    "cadena_lista = cadena.split()\n",
    "for i in cadena_lista:\n",
    "    if i == 'analista':\n",
    "        print(i)\n",
    "\n",
    "# Más adelante, en el ejercicio 11 se plantea otra alternativa haciendo uso de Regex"
   ]
  },
  {
   "cell_type": "markdown",
   "metadata": {},
   "source": [
    "### Ejercicio 2\n",
    "\n",
    "Qué expresión en Python necesitamos para conseguir el _string_\n",
    "\"nohtyPythonython\" utilizando sólo la palabra \"Python\"? "
   ]
  },
  {
   "cell_type": "code",
   "execution_count": 36,
   "metadata": {},
   "outputs": [
    {
     "name": "stdout",
     "output_type": "stream",
     "text": [
      "nohtyPythonython\n"
     ]
    }
   ],
   "source": [
    "cadena = 'Python'\n",
    "# Se concatena seleccionando: 1º la cadena al reves si la primera letra; 2º la cadena al completo\n",
    "# 3º la cadena en orden si la primera letra\n",
    "print (cadena [:0:-1] + cadena + cadena [1:])"
   ]
  },
  {
   "cell_type": "markdown",
   "metadata": {},
   "source": [
    "### Ejercicio 3\n",
    "\n",
    "Escribe un programa que asigne dos valores enteros cualquiera (elije un número entero aleatorio) a dos variables con nombre `a` y `b`. Utiliza las variables definidas anteriormente para evaluar la siguiente expresión matemática:\n",
    "\n",
    "( a<sup>2</sup> + b<sup>2</sup> )<sup>2</sup>\n"
   ]
  },
  {
   "cell_type": "code",
   "execution_count": 7,
   "metadata": {},
   "outputs": [
    {
     "name": "stdout",
     "output_type": "stream",
     "text": [
      "5 22\n",
      "259081\n"
     ]
    }
   ],
   "source": [
    "from random import randrange\n",
    "# Asignamos un número entero entre 0 y 100 a cada variable\n",
    "a = randrange(100)\n",
    "b = randrange(100)\n",
    "\n",
    "# Construimos la fórmula y la asignamos a una variable\n",
    "resultado = ((a**2) + (b**2))**2\n",
    "\n",
    "# Mostramos por pantalla, tanto las variables, como el resultado.\n",
    "print(a,b)\n",
    "print (resultado)"
   ]
  },
  {
   "cell_type": "markdown",
   "metadata": {},
   "source": [
    "### Ejercicio 4\n",
    "\n",
    "Escribir un programa que calcule el volumen de una pirámide cuadrangular con una base de 4x5 metros de longitud y anchura respectivamente, y con una altura de 7,5 m. Recuerda que la fórmula para calcular el volumen es \n",
    "\n",
    "<img src=\"https://wikimedia.org/api/rest_v1/media/math/render/svg/5bbc1ec5d10639d395ebc85e74cbf697d2220035\" title=\"EquacioVolumPiramide\" />\n",
    "\n",
    "\n",
    "\n",
    "donde _l_ y _w_ son la longitud y la anchura de la base, y _h_ es la altura."
   ]
  },
  {
   "cell_type": "code",
   "execution_count": 66,
   "metadata": {},
   "outputs": [
    {
     "name": "stdout",
     "output_type": "stream",
     "text": [
      "50.0\n"
     ]
    }
   ],
   "source": [
    "l = 4\n",
    "w = 5\n",
    "h = 7.5\n",
    "\n",
    "volumen_piramide = (l*w/3)*h\n",
    "\n",
    "print(volumen_piramide)"
   ]
  },
  {
   "cell_type": "markdown",
   "metadata": {},
   "source": [
    "### Ejercicio 5\n",
    "\n",
    "Escribe un programa que defina una lista con el nombre de todos los meses del año. Haz que muestre los meses que corresponden a otoño."
   ]
  },
  {
   "cell_type": "code",
   "execution_count": 68,
   "metadata": {},
   "outputs": [
    {
     "name": "stdout",
     "output_type": "stream",
     "text": [
      "['septiembre', 'octubre', 'noviembre']\n"
     ]
    }
   ],
   "source": [
    "meses = ['enero', 'febrero', 'marzo', 'abril', 'mayo', 'junio', 'julio', 'agosto', 'septiembre', 'octubre', 'noviembre', 'diciembre']\n",
    "\n",
    "# Creamos una variable con los meses de otoño seleccionando el rango de su orden en la lista\n",
    "otonio = meses [8:11]\n",
    "print(otonio)"
   ]
  },
  {
   "cell_type": "markdown",
   "metadata": {},
   "source": [
    "### Ejercicio 6\n",
    "\n",
    "Escribe un programa que a partir de la lista de números dada muestre por pantalla una cadena de caracteres con todos los números, separados entre sí por un guión, y duplicando el primero y el último elemento de la lista.\n",
    "\n",
    "Así, por ejemplo, para la lista ['1', '2', '3'] , el programa debería mostrar la cadena: '1-1-2-3-3'.\n"
   ]
  },
  {
   "cell_type": "code",
   "execution_count": 122,
   "metadata": {},
   "outputs": [
    {
     "name": "stdout",
     "output_type": "stream",
     "text": [
      "1-1-2-3-4-5-5\n"
     ]
    }
   ],
   "source": [
    "lista = ['1', '2', '3', '4', '5']\n",
    "lista_salida = []\n",
    "\n",
    "for i in range (len(lista)):\n",
    "    lista_salida.append(lista[i])\n",
    "    if i == 0 or i == len(lista)-1:\n",
    "        lista_salida.append(lista[i])\n",
    "    i += 1\n",
    "\n",
    "print(\"-\".join(lista_salida))"
   ]
  },
  {
   "cell_type": "markdown",
   "metadata": {},
   "source": [
    "### Ejercicio 7\n",
    "\n",
    "Ordena la siguiente lista de cadenas de caracteres:\n",
    "\n",
    "1. Invirtiendo el orden original\n",
    "2. En orden alfabético inverso\n",
    "\n",
    "**Nota**: Puedes consultar la documentación oficial de la función [`sorted ()`](https://docs.python.org/3/library/functions.html#sorted) para ver qué parámetros puedes utilizar para resolver la segunda parte de la actividad.\n"
   ]
  },
  {
   "cell_type": "code",
   "execution_count": 128,
   "metadata": {},
   "outputs": [
    {
     "name": "stdout",
     "output_type": "stream",
     "text": [
      "['Jadzia Dax', 'Quark', 'Odo', 'Kira Nerys', 'Benjamin Sisko']\n",
      "['Benjamin Sisko', 'Jadzia Dax', 'Kira Nerys', 'Odo', 'Quark']\n"
     ]
    }
   ],
   "source": [
    "st_chars = [\"Benjamin Sisko\", \"Kira Nerys\", \"Odo\", \"Quark\", \"Jadzia Dax\"]\n",
    "st_chars.reverse()\n",
    "print(st_chars)\n",
    "print(sorted(st_chars))"
   ]
  },
  {
   "cell_type": "markdown",
   "metadata": {},
   "source": [
    "### Ejercicio 8\n",
    "\n",
    "A partir de la siguiente lista,\n",
    "\n",
    "```A_list = [42, 7.5, \"Answer to the Ultimate Question\", \"Dave\", 7.5]```\n",
    "\n",
    "proporciona expresiones que retornen:\n",
    "\n",
    "1. El número de veces que aparece el elemento `7.5` en la lista.\n",
    "2. La posición de la primera aparición del valor `7.5`.\n",
    "3. La misma lista sin el último elemento.\n",
    "\n",
    "**Nota**: En el notebook de teoría hemos visto que son las listas y algunas operaciones sobre ellas. Para hacer la actividad, necesitaréis investigar algunas operaciones adicionales que podemos realizar sobre listas. Para ello podéis consultar la documentación oficial de Python sobre listas ([intro](https://docs.python.org/3/tutorial/introduction.html#lists) y [más sobre listas](https://docs.python.org/3/tutorial/datastructures.html#more-on-lists))."
   ]
  },
  {
   "cell_type": "code",
   "execution_count": 131,
   "metadata": {},
   "outputs": [
    {
     "name": "stdout",
     "output_type": "stream",
     "text": [
      "2\n",
      "1\n"
     ]
    }
   ],
   "source": [
    "from itertools import count\n",
    "\n",
    "\n",
    "a_list = [42, 7.5, \"Answer to the Ultimate Question\", \"Dave\", 7.5]\n",
    "print(a_list.count(7.5))\n",
    "print(a_list.index(7.5))"
   ]
  },
  {
   "cell_type": "markdown",
   "metadata": {},
   "source": [
    "### Ejercicio 9\n",
    "\n",
    "¿Qué expresión en Python necesitamos para conseguir la _string_ `Learning Python` utilizando sólo las variables` str1` y `str2` definidas?"
   ]
  },
  {
   "cell_type": "code",
   "execution_count": 132,
   "metadata": {},
   "outputs": [
    {
     "name": "stdout",
     "output_type": "stream",
     "text": [
      "Learning Python\n"
     ]
    }
   ],
   "source": [
    "# Defino las variables str1 y str_2\n",
    "str1 = \"Learning\"\n",
    "str2 = \"Python\"\n",
    "\n",
    "# imprimimos por pantalla la concatenacion de las 2 variables\n",
    "print(str1 + \" \" + str2)"
   ]
  },
  {
   "cell_type": "markdown",
   "metadata": {},
   "source": [
    "### Ejercicio 10\n",
    "\n",
    "El codigo que se presenta a continuación no funciona: \n",
    "\n",
    "Corrige el error y explica por qué sucede."
   ]
  },
  {
   "cell_type": "markdown",
   "metadata": {},
   "source": [
    "El tipo de formateo usado usa una serie de letras precedidas del símboo '%' que definen el tipo de dato que debe representarse. Así, '%f' se corresponde a un float y '%d' a un número entero.\n",
    "\n",
    "Al tratarse de la primera variable 'name', que es una cadena de texto (**string**) el símbolo a usar debería ser '%s'"
   ]
  },
  {
   "cell_type": "code",
   "execution_count": 133,
   "metadata": {},
   "outputs": [
    {
     "name": "stdout",
     "output_type": "stream",
     "text": [
      "Hello, my name is Alex and I'm 20 years old!\n"
     ]
    }
   ],
   "source": [
    "name = \"Alex\"\n",
    "\n",
    "age = 20\n",
    "\n",
    "print(\"Hello, my name is %s and I'm %d years old!\" % (name, age))"
   ]
  },
  {
   "cell_type": "markdown",
   "metadata": {},
   "source": [
    "### Ejercicio 11\n",
    "\n",
    "En este ejercicio utilizaremos la frase: La paciencia es la madre de la ciencia.\n",
    "\n",
    "a) Extrae las palabras paciencia y ciencia de la cadena de strings definida anteriormente.\n",
    "\n",
    "b) Crea la palabra ciencia a partir de paciencia, y la palabra paciencia a partir de ciencia.\n",
    "\n",
    "c) Separa la frase en las diferentes palabras que la forman (e.g. \"La\", \"paciencia,\" es \", etc). ¿Cuál es el separador que debemos usar?\n",
    "\n",
    "d) Vuelve a unir los elementos de la frase mediante \"-\" (e.g. \"La-paciencia-es ...\").\n"
   ]
  },
  {
   "cell_type": "code",
   "execution_count": 3,
   "metadata": {},
   "outputs": [
    {
     "name": "stdout",
     "output_type": "stream",
     "text": [
      "paciencia\n",
      "ciencia\n",
      "ciencia\n",
      "paciencia\n",
      "['La', 'paciencia', 'es', 'la', 'madre', 'de', 'la', 'ciencia']\n",
      "La-paciencia-es-la-madre-de-la-ciencia\n"
     ]
    }
   ],
   "source": [
    "import re\n",
    "\n",
    "cadena = \"La paciencia es la madre de la ciencia\"\n",
    "\n",
    "# Usamos Regex para buscar una coincidencia exacta de paciencia y ciencia\n",
    "str_1 = (re.search(r\"(?:paciencia)\",cadena))\n",
    "print(str_1.group(0))\n",
    "\n",
    "str_2 = (re.search(r\"(?:ciencia)\",cadena))\n",
    "print(str_2.group(0))\n",
    "\n",
    "print(str_1.group(0)[2:])\n",
    "print (\"pa\" + str_2.group(0))\n",
    "\n",
    "# separamos las palabras de la frase en elementos de una lista. Usamos el espacio como separador\n",
    "cadena_list = cadena.split()\n",
    "print(cadena_list)\n",
    "\n",
    "# Imprimimimos por pantalla la lista concatenada con guiones\n",
    "print(\"-\".join(cadena_list))"
   ]
  }
 ],
 "metadata": {
  "kernelspec": {
   "display_name": "Python 3.9.13 ('rampup_py39')",
   "language": "python",
   "name": "python3"
  },
  "language_info": {
   "codemirror_mode": {
    "name": "ipython",
    "version": 3
   },
   "file_extension": ".py",
   "mimetype": "text/x-python",
   "name": "python",
   "nbconvert_exporter": "python",
   "pygments_lexer": "ipython3",
   "version": "3.9.13"
  },
  "orig_nbformat": 4,
  "vscode": {
   "interpreter": {
    "hash": "213fdc0333ab73640da932b83f3310958a4f4fed211f03cb6b99353b64ec3f6d"
   }
  }
 },
 "nbformat": 4,
 "nbformat_minor": 2
}
